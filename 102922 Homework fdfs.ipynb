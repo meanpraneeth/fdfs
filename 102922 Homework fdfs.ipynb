{
 "cells": [
  {
   "cell_type": "markdown",
   "id": "5b99fb48",
   "metadata": {},
   "source": [
    "Q1: write a function which will try to find out len of a string without using an inbuilt len function "
   ]
  },
  {
   "cell_type": "code",
   "execution_count": 6,
   "id": "23221dbe",
   "metadata": {},
   "outputs": [
    {
     "name": "stdout",
     "output_type": "stream",
     "text": [
      "Enter string:Praneeth Kothamasu\n",
      "Length of the string is:\n",
      "18\n"
     ]
    }
   ],
   "source": [
    "string=input(\"Enter string:\")\n",
    "count=0\n",
    "for i in string:\n",
    "      count=count+1\n",
    "print(\"Length of the string is:\")\n",
    "print(count)"
   ]
  },
  {
   "cell_type": "markdown",
   "id": "878951c4",
   "metadata": {},
   "source": [
    "Q2: write a function which  will be able to print an index of list element without using an index function"
   ]
  },
  {
   "cell_type": "code",
   "execution_count": 16,
   "id": "f6d0af61",
   "metadata": {},
   "outputs": [
    {
     "name": "stdout",
     "output_type": "stream",
     "text": [
      "List :  [10, 20, 30, 10, 50, 100, 45, 120]\n",
      "Indices at which element 10 is present: [0, 3]\n"
     ]
    }
   ],
   "source": [
    "lst = [10,20,30,10,50,100,45,120] \n",
    "print (\"List : \" ,lst) \n",
    "result = [x for x in range(len(lst)) if lst[x] == 10] \n",
    "print (\"Indices at which element 10 is present: \" + str(result))"
   ]
  },
  {
   "cell_type": "markdown",
   "id": "ff46016f",
   "metadata": {},
   "source": [
    "Q3: write a function which will be able to print an ip address of your system"
   ]
  },
  {
   "cell_type": "code",
   "execution_count": 1,
   "id": "df4baacf",
   "metadata": {},
   "outputs": [
    {
     "name": "stdout",
     "output_type": "stream",
     "text": [
      "Computer Name:Praneeth\n",
      "Computer IP Address:192.168.1.42\n"
     ]
    }
   ],
   "source": [
    "import socket   \n",
    "hostname=socket.gethostname()   \n",
    "IPAddr=socket.gethostbyname(hostname)   \n",
    "print(\"Computer Name:\"+hostname)   \n",
    "print(\"Computer IP Address:\"+IPAddr)  "
   ]
  },
  {
   "cell_type": "markdown",
   "id": "550e99e7",
   "metadata": {},
   "source": [
    "Q4: write a function which will shutdown your system"
   ]
  },
  {
   "cell_type": "code",
   "execution_count": 49,
   "id": "8da2915e",
   "metadata": {},
   "outputs": [
    {
     "name": "stdout",
     "output_type": "stream",
     "text": [
      "Do you wish to shutdown your computer ? (yes / no): no\n"
     ]
    }
   ],
   "source": [
    "import os\n",
    "shutdown = input(\"Do you wish to shutdown your computer ? (yes / no): \")\n",
    "if shutdown == 'no':\n",
    "    exit()\n",
    "else:\n",
    "    os.system(\"shutdown /s /t 1\")"
   ]
  },
  {
   "cell_type": "markdown",
   "id": "3cef2b1a",
   "metadata": {},
   "source": [
    "Q5: write a function which will take input as a list with any kind of numeric value and give an out as a multiplication of \n",
    "all the numeric data l = [3.5, 6.56, 4,5,\"sudh\" , \"ineuron\" , 'fsda bootcamp 2.0']"
   ]
  },
  {
   "cell_type": "code",
   "execution_count": 4,
   "id": "a1fda4cc",
   "metadata": {},
   "outputs": [],
   "source": [
    "def test1():\n",
    "    l = [3.5, 6.56, 4,5,\"sudh\" , \"ineuron\" , 'fsda bootcamp 2.0']\n",
    "    a = 1\n",
    "    for i in l :\n",
    "        if type(i) == float and int:\n",
    "            a = i*a\n",
    "    return a"
   ]
  },
  {
   "cell_type": "code",
   "execution_count": 5,
   "id": "00f83b7a",
   "metadata": {},
   "outputs": [
    {
     "data": {
      "text/plain": [
       "22.959999999999997"
      ]
     },
     "execution_count": 5,
     "metadata": {},
     "output_type": "execute_result"
    }
   ],
   "source": [
    "test1()"
   ]
  },
  {
   "cell_type": "markdown",
   "id": "4de2ec80",
   "metadata": {},
   "source": [
    "Q6: write a function which will be able to read all the mails "
   ]
  },
  {
   "cell_type": "code",
   "execution_count": 8,
   "id": "ff20fadf",
   "metadata": {},
   "outputs": [
    {
     "name": "stdout",
     "output_type": "stream",
     "text": [
      "Collecting python-docx\n",
      "  Downloading python-docx-0.8.11.tar.gz (5.6 MB)\n",
      "Requirement already satisfied: lxml>=2.3.2 in c:\\users\\kotha\\anaconda3\\lib\\site-packages (from python-docx) (4.8.0)\n",
      "Building wheels for collected packages: python-docx\n",
      "  Building wheel for python-docx (setup.py): started\n",
      "  Building wheel for python-docx (setup.py): finished with status 'done'\n",
      "  Created wheel for python-docx: filename=python_docx-0.8.11-py3-none-any.whl size=184507 sha256=1a010f6e51f8631fa064ae5b13746d842e41a9b1abe5c91a79af6f244869f087\n",
      "  Stored in directory: c:\\users\\kotha\\appdata\\local\\pip\\cache\\wheels\\83\\8b\\7c\\09ae60c42c7ba4ed2dddaf2b8b9186cb105255856d6ed3dba5\n",
      "Successfully built python-docx\n",
      "Installing collected packages: python-docx\n",
      "Successfully installed python-docx-0.8.11\n"
     ]
    }
   ],
   "source": [
    "!pip install python-docx"
   ]
  },
  {
   "cell_type": "code",
   "execution_count": 14,
   "id": "70e9325e",
   "metadata": {},
   "outputs": [
    {
     "ename": "SyntaxError",
     "evalue": "EOL while scanning string literal (1635104570.py, line 2)",
     "output_type": "error",
     "traceback": [
      "\u001b[1;36m  Input \u001b[1;32mIn [14]\u001b[1;36m\u001b[0m\n\u001b[1;33m    doc = docx.Document(\"C:\\Users\\kotha\\OneDrive\\Documents\\50 Shades of Praneeth resumes\\Praneeth+resume03\\\")\u001b[0m\n\u001b[1;37m                                                                                                             ^\u001b[0m\n\u001b[1;31mSyntaxError\u001b[0m\u001b[1;31m:\u001b[0m EOL while scanning string literal\n"
     ]
    }
   ],
   "source": [
    "import docx\n",
    "doc = docx.Document(\"C:\\Users\\kotha\\OneDrive\\Documents\\50 Shades of Praneeth resumes\\Praneeth+resume03\\\")"
   ]
  }
 ],
 "metadata": {
  "kernelspec": {
   "display_name": "Python 3 (ipykernel)",
   "language": "python",
   "name": "python3"
  },
  "language_info": {
   "codemirror_mode": {
    "name": "ipython",
    "version": 3
   },
   "file_extension": ".py",
   "mimetype": "text/x-python",
   "name": "python",
   "nbconvert_exporter": "python",
   "pygments_lexer": "ipython3",
   "version": "3.9.12"
  }
 },
 "nbformat": 4,
 "nbformat_minor": 5
}
